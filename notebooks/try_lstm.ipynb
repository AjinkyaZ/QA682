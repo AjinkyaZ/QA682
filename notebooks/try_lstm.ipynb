{
 "cells": [
  {
   "cell_type": "code",
   "execution_count": 1,
   "metadata": {},
   "outputs": [],
   "source": [
    "from utils import *\n",
    "from models import *\n",
    "\n",
    "from tqdm import tqdm\n",
    "from pprint import pprint\n",
    "import json\n",
    "import _pickle as pkl\n",
    "from time import time\n",
    "from random import shuffle, seed"
   ]
  },
  {
   "cell_type": "code",
   "execution_count": 2,
   "metadata": {},
   "outputs": [
    {
     "name": "stdout",
     "output_type": "stream",
     "text": [
      "torch.Size([400004, 50])\n"
     ]
    }
   ],
   "source": [
    "glove = setup_glove()\n",
    "print(glove.vectors.size())\n",
    "VOCAB_SIZE = glove.vectors.size()[0]\n",
    "with open('../data/data.json', 'r') as f:\n",
    "    data = json.load(f)"
   ]
  },
  {
   "cell_type": "code",
   "execution_count": 7,
   "metadata": {},
   "outputs": [
    {
     "name": "stdout",
     "output_type": "stream",
     "text": [
      "3\n",
      "----------------------------------------------------------------------\n",
      "ID: Metrobus Transit is responsible for public transit in the region. Metrobus has a total of 19 routes, 53 buses and an annual ridership of 3,014,073. Destinations include the Avalon Mall, The Village Shopping Centre, Memorial University, Academy Canada, the College of the North Atlantic, the Marine Institute, the Confederation Building, downtown, Stavanger Drive Business Park, Kelsey Drive, Goulds, Kilbride, Shea Heights, the four hospitals in the city as well as other important areas in St. John's and Mount Pearl.\n",
      "Context: How many routes does the Metrobus have?\n",
      "Question: 19\n",
      "Answer Span: [90, 92]\n"
     ]
    },
    {
     "ename": "IndexError",
     "evalue": "list index out of range",
     "output_type": "error",
     "traceback": [
      "\u001b[0;31m---------------------------------------------------------------------------\u001b[0m",
      "\u001b[0;31mIndexError\u001b[0m                                Traceback (most recent call last)",
      "\u001b[0;32m<ipython-input-7-8a17814cce9b>\u001b[0m in \u001b[0;36m<module>\u001b[0;34m\u001b[0m\n\u001b[1;32m      9\u001b[0m \u001b[0mprint\u001b[0m\u001b[0;34m(\u001b[0m\u001b[0;34m\"Question:\"\u001b[0m\u001b[0;34m,\u001b[0m \u001b[0mexample_X\u001b[0m\u001b[0;34m[\u001b[0m\u001b[0;36m2\u001b[0m\u001b[0;34m]\u001b[0m\u001b[0;34m)\u001b[0m\u001b[0;34m\u001b[0m\u001b[0;34m\u001b[0m\u001b[0m\n\u001b[1;32m     10\u001b[0m \u001b[0mprint\u001b[0m\u001b[0;34m(\u001b[0m\u001b[0;34m\"Answer Span:\"\u001b[0m\u001b[0;34m,\u001b[0m \u001b[0mexample_y\u001b[0m\u001b[0;34m)\u001b[0m\u001b[0;34m\u001b[0m\u001b[0;34m\u001b[0m\u001b[0m\n\u001b[0;32m---> 11\u001b[0;31m \u001b[0mprint\u001b[0m\u001b[0;34m(\u001b[0m\u001b[0;34m\"Answer:\"\u001b[0m\u001b[0;34m,\u001b[0m \u001b[0mexample_X\u001b[0m\u001b[0;34m[\u001b[0m\u001b[0;36m3\u001b[0m\u001b[0;34m]\u001b[0m\u001b[0;34m)\u001b[0m\u001b[0;34m\u001b[0m\u001b[0;34m\u001b[0m\u001b[0m\n\u001b[0m\u001b[1;32m     12\u001b[0m \u001b[0;34m\u001b[0m\u001b[0m\n\u001b[1;32m     13\u001b[0m \u001b[0m_\u001b[0m\u001b[0;34m,\u001b[0m \u001b[0mp\u001b[0m\u001b[0;34m,\u001b[0m \u001b[0mX\u001b[0m\u001b[0;34m,\u001b[0m \u001b[0my\u001b[0m \u001b[0;34m=\u001b[0m \u001b[0mmake_data\u001b[0m\u001b[0;34m(\u001b[0m\u001b[0;34m[\u001b[0m\u001b[0mexample_X\u001b[0m\u001b[0;34m]\u001b[0m\u001b[0;34m,\u001b[0m \u001b[0;34m[\u001b[0m\u001b[0mexample_y\u001b[0m\u001b[0;34m]\u001b[0m\u001b[0;34m,\u001b[0m \u001b[0;36m1\u001b[0m\u001b[0;34m,\u001b[0m \u001b[0mglove\u001b[0m\u001b[0;34m)\u001b[0m\u001b[0;34m\u001b[0m\u001b[0;34m\u001b[0m\u001b[0m\n",
      "\u001b[0;31mIndexError\u001b[0m: list index out of range"
     ]
    }
   ],
   "source": [
    "idx = 5\n",
    "example_X = data['X_train'][idx]\n",
    "example_y = data['y_train'][idx]\n",
    "\n",
    "print(\"--\"*35)\n",
    "print(\"ID:\", example_X[0])\n",
    "print(\"Context:\", example_X[1])\n",
    "print(\"Question:\", example_X[2])\n",
    "print(\"Answer Span:\", example_y)\n",
    "print(\"Answer:\", example_X[3])\n",
    "\n",
    "_, p, X, y = make_data([example_X], [example_y], 1, glove)\n",
    "print(y)\n",
    "print(get_answer_span(y[0], p[0], example_X[1]))\n",
    "print(\"===========\")\n",
    "\n",
    "seed(1)\n",
    "zipped_data = list(zip(data['X_train'], data['y_train']))\n",
    "shuffle(zipped_data)\n",
    "data['X_train'], data['y_train'] = list(zip(*zipped_data))\n",
    "\n",
    "num_train = 128\n",
    "num_val = 32\n",
    "\n",
    "idxs_train, padlens_train, X_train, y_train = make_data(data['X_train'], data['y_train'], num_train, glove)\n",
    "idxs_val, padlens_val, X_val, y_val = make_data(data['X_val'], data['y_val'], num_val, glove)\n",
    "print(len(X_train), len(y_train), len(X_val), len(y_val))"
   ]
  },
  {
   "cell_type": "code",
   "execution_count": null,
   "metadata": {},
   "outputs": [],
   "source": [
    "conf = {\"vocab\": glove.vectors,\n",
    "        \"learning_rate\": 0.01,\n",
    "        \"epochs\": 10,\n",
    "        \"hidden_size\": 50,\n",
    "        \"batch_size\": 32,\n",
    "        \"opt\": \"Adamax\",\n",
    "        \"n_layers\": 1,\n",
    "        \"linear_dropout\": 0.7,\n",
    "        \"seq_dropout\": 0.7}\n",
    "model = ModelV2(conf)\n",
    "print(model)\n",
    "if torch.cuda.is_available():\n",
    "    model = model.cuda()\n",
    "model_name = \"%s_D%s_B%s_E%s_H%s_LR%s_O%s\"%(type(model).__name__, num_train, model.batch_size, model.epochs, model.hidden_size, model.lr, conf[\"opt\"])\n",
    "print(model_name)"
   ]
  },
  {
   "cell_type": "code",
   "execution_count": null,
   "metadata": {},
   "outputs": [],
   "source": [
    "tic = time()\n",
    "v_preds, losses, vlosses = model.fit((X_train, y_train), (X_val, y_val))\n",
    "toc = time()\n",
    "print(\"took\", toc-tic, \"seconds\")\n",
    "torch.save(model, '../evaluation/models/%s'%model_name)\n",
    "import matplotlib.pyplot as plt\n",
    "plt.plot(list(range(len(losses))), losses, label='train')\n",
    "plt.plot(list(range(len(vlosses))), vlosses, label='val')\n",
    "plt.legend()\n",
    "plt.show()"
   ]
  },
  {
   "cell_type": "code",
   "execution_count": null,
   "metadata": {},
   "outputs": [],
   "source": [
    "# model = torch.load('../evaluation/models/%s'%model_name)\n",
    "# model = torch.load('../evaluation/models/ModelV2_D512_B32_E5_H32_LR0.01_OAdamax')\n",
    "print(model)"
   ]
  },
  {
   "cell_type": "code",
   "execution_count": null,
   "metadata": {},
   "outputs": [],
   "source": [
    "bs = 64\n",
    "print(\"batch size\", bs)\n",
    "\n",
    "num_test = 4096 # len(data['X_test'])\n",
    "idxs_test, padlens_test, X_test, y_test = make_data(data['X_test'], data['y_test'], num_test, glove)\n",
    "\n",
    "dev_results = {}\n",
    "\n",
    "def switch_idxs(pred):\n",
    "    if pred[0]>pred[1]:\n",
    "        pred[0], pred[1] = pred[1], pred[0]\n",
    "    return pred\n",
    "\n",
    "print(\"Test data size:\", num_test)\n",
    "for bindex,  i in tqdm(enumerate(range(0, len(y_test)-bs+1, bs))):\n",
    "    print(\"batch:\", bindex)\n",
    "    model.init_params(bs)\n",
    "    Xb = torch.LongTensor(X_test[i:i+bs])\n",
    "    yb = var(torch.LongTensor(y_test[i:i+bs]))\n",
    "    if torch.cuda.is_available():\n",
    "        Xb = Xb.cuda()\n",
    "        yb = yb.cuda()\n",
    "    pred = model.predict(Xb).data.tolist()\n",
    "    pred = list(map(switch_idxs, pred))\n",
    "    qids = [data['X_test'][j][0] for j in idxs_test[i:i+bs]]\n",
    "    test_paras = [data['X_test'][j][1] for j in idxs_test[i:i+bs]]\n",
    "    pads = padlens_test[i:i+bs]\n",
    "    answers = list(map(get_answer_span, pred, pads, test_paras))\n",
    "    batch_results = list(zip(qids, answers))\n",
    "    # print(len(dict(batch_results)))\n",
    "    dev_results.update(dict(batch_results))"
   ]
  },
  {
   "cell_type": "code",
   "execution_count": null,
   "metadata": {},
   "outputs": [],
   "source": [
    "num_processed = len(dev_results)\n",
    "print(\"processed:\", num_processed)\n",
    "dev_results['version'] = '1.1'\n",
    "fname = 'run_%s_test%s.json'%(model_name, num_test)\n",
    "with open('../data/%s'%fname, 'w') as f:\n",
    "    print(\"saving to %s\"%fname)\n",
    "    json.dump(dev_results, f)"
   ]
  }
 ],
 "metadata": {
  "kernelspec": {
   "display_name": "Python 3",
   "language": "python",
   "name": "python3"
  },
  "language_info": {
   "codemirror_mode": {
    "name": "ipython",
    "version": 3
   },
   "file_extension": ".py",
   "mimetype": "text/x-python",
   "name": "python",
   "nbconvert_exporter": "python",
   "pygments_lexer": "ipython3",
   "version": "3.6.8"
  }
 },
 "nbformat": 4,
 "nbformat_minor": 4
}
