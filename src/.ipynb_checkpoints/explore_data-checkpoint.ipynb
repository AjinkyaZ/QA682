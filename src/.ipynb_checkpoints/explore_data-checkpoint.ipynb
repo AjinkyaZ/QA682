{
 "cells": [
  {
   "cell_type": "code",
   "execution_count": 2,
   "metadata": {},
   "outputs": [],
   "source": [
    "import json\n",
    "from pprint import pprint\n",
    "import numpy as np"
   ]
  },
  {
   "cell_type": "code",
   "execution_count": 3,
   "metadata": {},
   "outputs": [],
   "source": [
    "with open('./data/train-v1.1.json', 'r') as f:\n",
    "    train_data = json.load(f)"
   ]
  },
  {
   "cell_type": "code",
   "execution_count": 4,
   "metadata": {},
   "outputs": [],
   "source": [
    "pc = []\n",
    "qs = []\n",
    "paralens = []\n",
    "qlens = []\n",
    "for i in train_data['data']:\n",
    "    paras = i['paragraphs']\n",
    "    pc.append(len(paras)) # num of paras/contexts\n",
    "    for para in paras:\n",
    "        context = para['context'].strip().lower().split(\" \")\n",
    "        paralens.append(context) # length of each para\n",
    "        ques = para['qas']\n",
    "        qs.append(len(ques)) # num of questions\n",
    "        for qi in ques:\n",
    "            q = qi['question'].strip().lower().split(\" \")\n",
    "            qlens.append(len(q)) # length of each question"
   ]
  },
  {
   "cell_type": "code",
   "execution_count": 5,
   "metadata": {},
   "outputs": [
    {
     "name": "stdout",
     "output_type": "stream",
     "text": [
      "18896 87599\n"
     ]
    }
   ],
   "source": [
    "print(sum(pc), sum(qs))"
   ]
  },
  {
   "cell_type": "code",
   "execution_count": null,
   "metadata": {
    "scrolled": false
   },
   "outputs": [],
   "source": [
    "print(\"Paragraphs:\", np.min(pc), np.max(pc), np.mean(pc), np.std(pc))\n",
    "print(\"Questions:\", np.min(qs), np.max(qs), np.mean(qs), np.std(qs))\n",
    "print(\"Paragraph lengths:\", np.min(paralens), np.max(paralens), np.mean(paralens), np.std(paralens))\n",
    "print(\"Question lengths:\", np.min(qlens), np.max(qlens), np.mean(qlens), np.std(qlens))"
   ]
  }
 ],
 "metadata": {
  "kernelspec": {
   "display_name": "Python 3",
   "language": "python",
   "name": "python3"
  },
  "language_info": {
   "codemirror_mode": {
    "name": "ipython",
    "version": 3
   },
   "file_extension": ".py",
   "mimetype": "text/x-python",
   "name": "python",
   "nbconvert_exporter": "python",
   "pygments_lexer": "ipython3",
   "version": "3.5.4"
  }
 },
 "nbformat": 4,
 "nbformat_minor": 2
}
