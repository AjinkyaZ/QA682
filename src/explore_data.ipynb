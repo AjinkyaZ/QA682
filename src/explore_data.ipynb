{
 "cells": [
  {
   "cell_type": "code",
   "execution_count": 1,
   "metadata": {},
   "outputs": [],
   "source": [
    "import json\n",
    "from pprint import pprint\n",
    "import numpy as np\n",
    "import matplotlib.pyplot as plt"
   ]
  },
  {
   "cell_type": "code",
   "execution_count": 2,
   "metadata": {},
   "outputs": [],
   "source": [
    "with open('../data/train-v1.1.json', 'r') as f:\n",
    "    train_data = json.load(f)"
   ]
  },
  {
   "cell_type": "code",
   "execution_count": 12,
   "metadata": {},
   "outputs": [],
   "source": [
    "pc = []\n",
    "qs = []\n",
    "paralens = []\n",
    "qlens = []\n",
    "for i in train_data['data']:\n",
    "    paras = i['paragraphs']\n",
    "    pc.append(len(paras)) # num of paras/contexts\n",
    "    for para in paras:\n",
    "        context = para['context'].strip().lower().split(\" \")\n",
    "        paralens.append(len(context)) # length of each para\n",
    "        ques = para['qas']\n",
    "        qs.append(len(ques)) # num of questions\n",
    "        for qi in ques:\n",
    "            q = qi['question'].strip().lower().split(\" \")\n",
    "            qlens.append(len(q)) # length of each question"
   ]
  },
  {
   "cell_type": "code",
   "execution_count": 13,
   "metadata": {},
   "outputs": [
    {
     "name": "stdout",
     "output_type": "stream",
     "text": [
      "18896 87599\n"
     ]
    }
   ],
   "source": [
    "print(sum(pc), sum(qs))"
   ]
  },
  {
   "cell_type": "code",
   "execution_count": 14,
   "metadata": {
    "scrolled": false
   },
   "outputs": [
    {
     "name": "stdout",
     "output_type": "stream",
     "text": [
      "Paragraphs: 5 149 42.7511312217 21.6942255404\n"
     ]
    }
   ],
   "source": [
    "print(\"Paragraphs:\", np.min(pc), np.max(pc), np.mean(pc), np.std(pc))"
   ]
  },
  {
   "cell_type": "code",
   "execution_count": 15,
   "metadata": {},
   "outputs": [
    {
     "name": "stdout",
     "output_type": "stream",
     "text": [
      "Questions: 1 25 4.6358488569 1.68096373436\n"
     ]
    }
   ],
   "source": [
    "print(\"Questions:\", np.min(qs), np.max(qs), np.mean(qs), np.std(qs))"
   ]
  },
  {
   "cell_type": "code",
   "execution_count": 16,
   "metadata": {},
   "outputs": [
    {
     "name": "stdout",
     "output_type": "stream",
     "text": [
      "Paragraph Lengths: 20 653 116.628334039 49.7103234437\n"
     ]
    }
   ],
   "source": [
    "print(\"Paragraph Lengths:\", np.min(paralens), np.max(paralens), np.mean(paralens), np.std(paralens))"
   ]
  },
  {
   "cell_type": "code",
   "execution_count": 18,
   "metadata": {},
   "outputs": [
    {
     "name": "stdout",
     "output_type": "stream",
     "text": [
      "Question Lengths: 1 40 10.0700464617 3.56601940859\n"
     ]
    }
   ],
   "source": [
    "print(\"Question Lengths:\", np.min(qlens), np.max(qlens), np.mean(qlens), np.std(qlens))"
   ]
  },
  {
   "cell_type": "code",
   "execution_count": 36,
   "metadata": {},
   "outputs": [
    {
     "data": {
      "image/png": "[encoded data removed]",
      "text/plain": [
       "<matplotlib.figure.Figure at 0x7f6dcc7e7ac8>"
      ]
     },
     "metadata": {},
     "output_type": "display_data"
    }
   ],
   "source": [
    "plt.figure(figsize=(15, 3))\n",
    "plt.subplot(121)\n",
    "plt.hist(paralens, bins=20)\n",
    "plt.title('Paragraph lengths')\n",
    "plt.subplot(122)\n",
    "plt.hist(qlens, bins=20)\n",
    "plt.title('Question lengths')\n",
    "plt.show()"
   ]
  },
  {
   "cell_type": "code",
   "execution_count": null,
   "metadata": {},
   "outputs": [],
   "source": []
  }
 ],
 "metadata": {
  "kernelspec": {
   "display_name": "Python 3",
   "language": "python",
   "name": "python3"
  },
  "language_info": {
   "codemirror_mode": {
    "name": "ipython",
    "version": 3
   },
   "file_extension": ".py",
   "mimetype": "text/x-python",
   "name": "python",
   "nbconvert_exporter": "python",
   "pygments_lexer": "ipython3",
   "version": "3.5.4"
  }
 },
 "nbformat": 4,
 "nbformat_minor": 2
}
