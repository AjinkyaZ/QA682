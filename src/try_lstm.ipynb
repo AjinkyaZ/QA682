{
 "cells": [
  {
   "cell_type": "code",
   "execution_count": 1,
   "metadata": {},
   "outputs": [],
   "source": [
    "# not autoreloading - raises TypeError in super().__init__() calls for models\n",
    "from utils import *\n",
    "\n",
    "from tqdm import tqdm\n",
    "from pprint import pprint\n",
    "import json\n",
    "import _pickle as pkl\n",
    "from time import time"
   ]
  },
  {
   "cell_type": "code",
   "execution_count": 2,
   "metadata": {},
   "outputs": [
    {
     "name": "stdout",
     "output_type": "stream",
     "text": [
      "torch.Size([400004, 50])\n"
     ]
    }
   ],
   "source": [
    "glove = setup_glove()\n",
    "print(glove.vectors.size())\n",
    "VOCAB_SIZE = glove.vectors.size()[0]\n",
    "with open('../data/data.json', 'r') as f:\n",
    "    data = json.load(f)"
   ]
  },
  {
   "cell_type": "code",
   "execution_count": 3,
   "metadata": {
    "scrolled": false
   },
   "outputs": [
    {
     "name": "stdout",
     "output_type": "stream",
     "text": [
      "ID: 56ce602faab44d1400b88713\n",
      "Context: A solar chimney (or thermal chimney, in this context) is a passive solar ventilation system composed of a vertical shaft connecting the interior and exterior of a building. As the chimney warms, the air inside is heated causing an updraft that pulls air through the building. Performance can be improved by using glazing and thermal mass materials in a way that mimics greenhouses.\n",
      "Question: What kind of system is a solar chimney?\n",
      "Answer Span: [59, 84]\n",
      "Answer: passive solar ventilation\n",
      "[(11, 13)]\n",
      "passive solar ventilation\n"
     ]
    }
   ],
   "source": [
    "idx = 5\n",
    "example_X = (data['X_train'][idx])\n",
    "example_y = (data['y_train'][idx])\n",
    "print(\"ID:\", example_X[0])\n",
    "print(\"Context:\", example_X[1])\n",
    "print(\"Question:\", example_X[2])\n",
    "print(\"Answer Span:\", example_y)\n",
    "print(\"Answer:\", example_X[3])\n",
    "X, y = make_data([example_X], [example_y])\n",
    "pprint(y)\n",
    "print(get_answer_span(y[0], example_X[1]))\n",
    "num_ex = 100\n",
    "X_pass, y_pass = make_data(data['X_train'][:num_ex], data['y_train'][:num_ex])"
   ]
  },
  {
   "cell_type": "code",
   "execution_count": 4,
   "metadata": {},
   "outputs": [
    {
     "name": "stdout",
     "output_type": "stream",
     "text": [
      "ModelV2(\n",
      "  (encoder_c): Embedding(400004, 50)\n",
      "  (encoder_q): Embedding(400004, 50)\n",
      "  (gru_c): GRU(50, 32, bidirectional=True)\n",
      "  (gru_q): GRU(50, 32, bidirectional=True)\n",
      "  (lin_q): Linear(in_features=64, out_features=64, bias=True)\n",
      "  (gru_op): GRU(192, 128, bidirectional=True)\n",
      "  (decoder_start): Linear(in_features=128, out_features=600, bias=True)\n",
      "  (decoder_end): Linear(in_features=128, out_features=600, bias=True)\n",
      ") 0.1 32 20 <class 'torch.optim.adamax.Adamax'>\n",
      "BiGRU_100_5_32_1\n"
     ]
    }
   ],
   "source": [
    "from models import *\n",
    "\n",
    "conf = {\"vocab\": glove.vectors,\n",
    "    \"learning_rate\": 0.1,\n",
    "        \"epochs\": 5,\n",
    "        \"hidden_size\": 32,\n",
    "       \"batch_size\": 20,\n",
    "       \"opt\": \"Adamax\",\n",
    "        \"n_layers\": 1}\n",
    "model = ModelV2(conf)\n",
    "print(model, model.lr, model.hidden_size, model.batch_size, model.opt)\n",
    "model_name = \"BiGRU_%s_%s_%s_%s\"%(num_ex, model.epochs, model.hidden_size, model.n_layers)\n",
    "print(model_name)"
   ]
  },
  {
   "cell_type": "code",
   "execution_count": null,
   "metadata": {
    "scrolled": false
   },
   "outputs": [],
   "source": [
    "tic = time()\n",
    "res = model.fit(X_pass, y_pass)\n",
    "toc = time()\n",
    "print(\"took\", toc-tic, \"seconds\")\n",
    "torch.save(model, '../evaluation/models/%s'%model_name)"
   ]
  },
  {
   "cell_type": "code",
   "execution_count": 5,
   "metadata": {},
   "outputs": [
    {
     "name": "stdout",
     "output_type": "stream",
     "text": [
      "ModelV2(\n",
      "  (encoder_c): Embedding(400004, 50)\n",
      "  (encoder_q): Embedding(400004, 50)\n",
      "  (gru_c): GRU(50, 32, bidirectional=True)\n",
      "  (gru_q): GRU(50, 32, bidirectional=True)\n",
      "  (lin_q): Linear(in_features=64, out_features=64, bias=True)\n",
      "  (gru_op): GRU(192, 128, bidirectional=True)\n",
      "  (decoder_start): Linear(in_features=128, out_features=600, bias=True)\n",
      "  (decoder_end): Linear(in_features=128, out_features=600, bias=True)\n",
      ")\n",
      "BiGRU_100_5_32_1\n"
     ]
    }
   ],
   "source": [
    "model = torch.load('../evaluation/models/%s'%model_name)\n",
    "print(model)\n",
    "print(model_name)"
   ]
  },
  {
   "cell_type": "code",
   "execution_count": null,
   "metadata": {},
   "outputs": [],
   "source": [
    "import matplotlib.pyplot as plt\n",
    "plt.plot(list(range(len(res))), res)\n",
    "plt.show()"
   ]
  },
  {
   "cell_type": "code",
   "execution_count": 6,
   "metadata": {},
   "outputs": [],
   "source": [
    "num_test = 100\n",
    "X_test_data, y_test_data = make_data(data['X_test'][:num_test], data['y_test'][:num_test])"
   ]
  },
  {
   "cell_type": "code",
   "execution_count": 7,
   "metadata": {
    "scrolled": false
   },
   "outputs": [
    {
     "name": "stdout",
     "output_type": "stream",
     "text": [
      "Super Bowl 50 was an American football game to determine the champion of the National Football League (NFL) for the 2015 season. The American Football Conference (AFC) champion Denver Broncos defeated the National Football Conference (NFC) champion Carolina Panthers 24–10 to earn their third Super Bowl title. The game was played on February 7, 2016, at Levi's Stadium in the San Francisco Bay Area at Santa Clara, California. As this was the 50th Super Bowl, the league emphasized the \"golden anniversary\" with various gold-themed initiatives, as well as temporarily suspending the tradition of naming each Super Bowl game with Roman numerals (under which the game would have been known as \"Super Bowl L\"), so that the logo could prominently feature the Arabic numerals 50.\n",
      "------------------------------\n",
      "QUESTION:  Which NFL team represented the AFC at Super Bowl 50?\n",
      "ANSWER:  Denver Broncos\n",
      "PRED_SPAN:  [6, 31]\n",
      "PREDICTED:  football game to determine the champion of the National Football League (NFL) for the 2015 season. The American Football Conference (AFC) champion Denver Broncos defeated the\n",
      "==================================================\n",
      "QUESTION:  Which NFL team represented the NFC at Super Bowl 50?\n",
      "ANSWER:  Carolina Panthers\n",
      "PRED_SPAN:  [6, 31]\n",
      "PREDICTED:  football game to determine the champion of the National Football League (NFL) for the 2015 season. The American Football Conference (AFC) champion Denver Broncos defeated the\n",
      "==================================================\n",
      "QUESTION:  Where did Super Bowl 50 take place?\n",
      "ANSWER:  Santa Clara, California\n",
      "PRED_SPAN:  [6, 31]\n",
      "PREDICTED:  football game to determine the champion of the National Football League (NFL) for the 2015 season. The American Football Conference (AFC) champion Denver Broncos defeated the\n",
      "==================================================\n",
      "QUESTION:  Which NFL team won Super Bowl 50?\n",
      "ANSWER:  Denver Broncos\n",
      "PRED_SPAN:  [6, 31]\n",
      "PREDICTED:  football game to determine the champion of the National Football League (NFL) for the 2015 season. The American Football Conference (AFC) champion Denver Broncos defeated the\n",
      "==================================================\n",
      "QUESTION:  What color was used to emphasize the 50th anniversary of the Super Bowl?\n",
      "ANSWER:  gold\n",
      "PRED_SPAN:  [6, 31]\n",
      "PREDICTED:  football game to determine the champion of the National Football League (NFL) for the 2015 season. The American Football Conference (AFC) champion Denver Broncos defeated the\n",
      "==================================================\n",
      "QUESTION:  What was the theme of Super Bowl 50?\n",
      "ANSWER:  \"golden anniversary\"\n",
      "PRED_SPAN:  [6, 31]\n",
      "PREDICTED:  football game to determine the champion of the National Football League (NFL) for the 2015 season. The American Football Conference (AFC) champion Denver Broncos defeated the\n",
      "==================================================\n",
      "QUESTION:  What day was the game played on?\n",
      "ANSWER:  February 7, 2016\n",
      "PRED_SPAN:  [6, 31]\n",
      "PREDICTED:  football game to determine the champion of the National Football League (NFL) for the 2015 season. The American Football Conference (AFC) champion Denver Broncos defeated the\n",
      "==================================================\n",
      "QUESTION:  What is the AFC short for?\n",
      "ANSWER:  American Football Conference\n",
      "PRED_SPAN:  [6, 31]\n",
      "PREDICTED:  football game to determine the champion of the National Football League (NFL) for the 2015 season. The American Football Conference (AFC) champion Denver Broncos defeated the\n",
      "==================================================\n",
      "QUESTION:  What was the theme of Super Bowl 50?\n",
      "ANSWER:  \"golden anniversary\"\n",
      "PRED_SPAN:  [6, 31]\n",
      "PREDICTED:  football game to determine the champion of the National Football League (NFL) for the 2015 season. The American Football Conference (AFC) champion Denver Broncos defeated the\n",
      "==================================================\n",
      "QUESTION:  What does AFC stand for?\n",
      "ANSWER:  American Football Conference\n",
      "PRED_SPAN:  [6, 31]\n",
      "PREDICTED:  football game to determine the champion of the National Football League (NFL) for the 2015 season. The American Football Conference (AFC) champion Denver Broncos defeated the\n",
      "==================================================\n",
      "QUESTION:  What day was the Super Bowl played on?\n",
      "ANSWER:  February 7, 2016\n",
      "PRED_SPAN:  [6, 31]\n",
      "PREDICTED:  football game to determine the champion of the National Football League (NFL) for the 2015 season. The American Football Conference (AFC) champion Denver Broncos defeated the\n",
      "==================================================\n",
      "QUESTION:  Who won Super Bowl 50?\n",
      "ANSWER:  Denver Broncos\n",
      "PRED_SPAN:  [6, 31]\n",
      "PREDICTED:  football game to determine the champion of the National Football League (NFL) for the 2015 season. The American Football Conference (AFC) champion Denver Broncos defeated the\n",
      "==================================================\n",
      "QUESTION:  What venue did Super Bowl 50 take place in?\n",
      "ANSWER:  Levi's Stadium\n",
      "PRED_SPAN:  [6, 31]\n",
      "PREDICTED:  football game to determine the champion of the National Football League (NFL) for the 2015 season. The American Football Conference (AFC) champion Denver Broncos defeated the\n",
      "==================================================\n",
      "QUESTION:  What city did Super Bowl 50 take place in?\n",
      "ANSWER:  Santa Clara\n",
      "PRED_SPAN:  [6, 31]\n",
      "PREDICTED:  football game to determine the champion of the National Football League (NFL) for the 2015 season. The American Football Conference (AFC) champion Denver Broncos defeated the\n",
      "==================================================\n",
      "QUESTION:  If Roman numerals were used, what would Super Bowl 50 have been called?\n",
      "ANSWER:  Super Bowl L\n",
      "PRED_SPAN:  [6, 31]\n",
      "PREDICTED:  football game to determine the champion of the National Football League (NFL) for the 2015 season. The American Football Conference (AFC) champion Denver Broncos defeated the\n",
      "==================================================\n",
      "QUESTION:  Super Bowl 50 decided the NFL champion for what season?\n",
      "ANSWER:  2015\n",
      "PRED_SPAN:  [6, 31]\n",
      "PREDICTED:  football game to determine the champion of the National Football League (NFL) for the 2015 season. The American Football Conference (AFC) champion Denver Broncos defeated the\n",
      "==================================================\n",
      "QUESTION:  What year did the Denver Broncos secure a Super Bowl title for the third time?\n",
      "ANSWER:  2015\n",
      "PRED_SPAN:  [6, 31]\n",
      "PREDICTED:  football game to determine the champion of the National Football League (NFL) for the 2015 season. The American Football Conference (AFC) champion Denver Broncos defeated the\n",
      "==================================================\n",
      "QUESTION:  What city did Super Bowl 50 take place in?\n",
      "ANSWER:  Santa Clara\n",
      "PRED_SPAN:  [6, 31]\n",
      "PREDICTED:  football game to determine the champion of the National Football League (NFL) for the 2015 season. The American Football Conference (AFC) champion Denver Broncos defeated the\n",
      "==================================================\n",
      "QUESTION:  What stadium did Super Bowl 50 take place in?\n",
      "ANSWER:  Levi's Stadium\n",
      "PRED_SPAN:  [6, 31]\n",
      "PREDICTED:  football game to determine the champion of the National Football League (NFL) for the 2015 season. The American Football Conference (AFC) champion Denver Broncos defeated the\n",
      "==================================================\n",
      "QUESTION:  What was the final score of Super Bowl 50? \n",
      "ANSWER:  24–10\n",
      "PRED_SPAN:  [6, 31]\n",
      "PREDICTED:  football game to determine the champion of the National Football League (NFL) for the 2015 season. The American Football Conference (AFC) champion Denver Broncos defeated the\n",
      "==================================================\n",
      "QUESTION:  What month, day and year did Super Bowl 50 take place? \n",
      "ANSWER:  February 7, 2016\n",
      "PRED_SPAN:  [6, 31]\n",
      "PREDICTED:  football game to determine the champion of the National Football League (NFL) for the 2015 season. The American Football Conference (AFC) champion Denver Broncos defeated the\n",
      "==================================================\n",
      "QUESTION:  What year was Super Bowl 50?\n",
      "ANSWER:  2015\n",
      "PRED_SPAN:  [6, 31]\n",
      "PREDICTED:  football game to determine the champion of the National Football League (NFL) for the 2015 season. The American Football Conference (AFC) champion Denver Broncos defeated the\n",
      "==================================================\n",
      "QUESTION:  What team was the AFC champion?\n",
      "ANSWER:  Denver Broncos\n"
     ]
    },
    {
     "name": "stdout",
     "output_type": "stream",
     "text": [
      "PRED_SPAN:  [6, 31]\n",
      "PREDICTED:  football game to determine the champion of the National Football League (NFL) for the 2015 season. The American Football Conference (AFC) champion Denver Broncos defeated the\n",
      "==================================================\n",
      "QUESTION:  What team was the NFC champion?\n",
      "ANSWER:  Carolina Panthers\n",
      "PRED_SPAN:  [6, 31]\n",
      "PREDICTED:  football game to determine the champion of the National Football League (NFL) for the 2015 season. The American Football Conference (AFC) champion Denver Broncos defeated the\n",
      "==================================================\n",
      "QUESTION:  Who won Super Bowl 50?\n",
      "ANSWER:  Denver Broncos\n",
      "PRED_SPAN:  [6, 31]\n",
      "PREDICTED:  football game to determine the champion of the National Football League (NFL) for the 2015 season. The American Football Conference (AFC) champion Denver Broncos defeated the\n",
      "==================================================\n",
      "QUESTION:  Super Bowl 50 determined the NFL champion for what season?\n",
      "ANSWER:  2015\n",
      "PRED_SPAN:  [6, 31]\n",
      "PREDICTED:  football game to determine the champion of the National Football League (NFL) for the 2015 season. The American Football Conference (AFC) champion Denver Broncos defeated the\n",
      "==================================================\n",
      "QUESTION:  Which team won Super Bowl 50.\n",
      "ANSWER:  Denver Broncos\n",
      "PRED_SPAN:  [6, 31]\n",
      "PREDICTED:  football game to determine the champion of the National Football League (NFL) for the 2015 season. The American Football Conference (AFC) champion Denver Broncos defeated the\n",
      "==================================================\n",
      "QUESTION:  Where was Super Bowl 50 held?\n",
      "ANSWER:  Santa Clara, California.\n",
      "PRED_SPAN:  [6, 31]\n",
      "PREDICTED:  football game to determine the champion of the National Football League (NFL) for the 2015 season. The American Football Conference (AFC) champion Denver Broncos defeated the\n",
      "==================================================\n",
      "QUESTION:  The name of the NFL championship game is?\n",
      "ANSWER:  Super Bowl\n",
      "PRED_SPAN:  [6, 31]\n",
      "PREDICTED:  football game to determine the champion of the National Football League (NFL) for the 2015 season. The American Football Conference (AFC) champion Denver Broncos defeated the\n",
      "==================================================\n",
      "QUESTION:  What 2015 NFL team one the AFC playoff?\n",
      "ANSWER:  Denver Broncos\n",
      "PRED_SPAN:  [6, 31]\n",
      "PREDICTED:  football game to determine the champion of the National Football League (NFL) for the 2015 season. The American Football Conference (AFC) champion Denver Broncos defeated the\n",
      "==================================================\n",
      "The Panthers finished the regular season with a 15–1 record, and quarterback Cam Newton was named the NFL Most Valuable Player (MVP). They defeated the Arizona Cardinals 49–15 in the NFC Championship Game and advanced to their second Super Bowl appearance since the franchise was founded in 1995. The Broncos finished the regular season with a 12–4 record, and denied the New England Patriots a chance to defend their title from Super Bowl XLIX by defeating them 20–18 in the AFC Championship Game. They joined the Patriots, Dallas Cowboys, and Pittsburgh Steelers as one of four teams that have made eight appearances in the Super Bowl.\n",
      "------------------------------\n",
      "QUESTION:  Which Carolina Panthers player was named Most Valuable Player?\n",
      "ANSWER:  Cam Newton\n",
      "PRED_SPAN:  [6, 31]\n",
      "PREDICTED:  with a 15–1 record, and quarterback Cam Newton was named the NFL Most Valuable Player (MVP). They defeated the Arizona Cardinals 49–15 in the NFC Championship\n",
      "==================================================\n",
      "QUESTION:  How many appearances have the Denver Broncos made in the Super Bowl?\n",
      "ANSWER:  8\n",
      "PRED_SPAN:  [6, 31]\n",
      "PREDICTED:  with a 15–1 record, and quarterback Cam Newton was named the NFL Most Valuable Player (MVP). They defeated the Arizona Cardinals 49–15 in the NFC Championship\n",
      "==================================================\n",
      "QUESTION:  What year was the Carolina Panthers franchise founded?\n",
      "ANSWER:  1995\n",
      "PRED_SPAN:  [6, 31]\n",
      "PREDICTED:  with a 15–1 record, and quarterback Cam Newton was named the NFL Most Valuable Player (MVP). They defeated the Arizona Cardinals 49–15 in the NFC Championship\n",
      "==================================================\n",
      "QUESTION:  What team did the Panthers defeat?\n",
      "ANSWER:  Arizona Cardinals\n",
      "PRED_SPAN:  [6, 31]\n",
      "PREDICTED:  with a 15–1 record, and quarterback Cam Newton was named the NFL Most Valuable Player (MVP). They defeated the Arizona Cardinals 49–15 in the NFC Championship\n",
      "==================================================\n"
     ]
    }
   ],
   "source": [
    "dev_results = {}\n",
    "seen_contexts = set()\n",
    "seen_questions = set()\n",
    "from hashlib import sha1\n",
    "    \n",
    "for i, (x, y) in enumerate(zip(X_test_data[:num_test], y_test_data[:num_test])):\n",
    "    model.hidden_c, model.hidden_q, model.hidden_op = model.init_hidden(1), model.init_hidden(1), model.init_hidden_2(1)\n",
    "    qid = data['X_test'][i][0]\n",
    "    if qid not in seen_questions:\n",
    "        seen_questions.add(qid)\n",
    "    else:\n",
    "        continue\n",
    "    c = data['X_test'][i][1]\n",
    "    context_h = sha1(c.encode('utf-8')).hexdigest()\n",
    "    if context_h not in seen_contexts:\n",
    "        print(c)\n",
    "        print(\"-\"*30)\n",
    "        seen_contexts.add(context_h)\n",
    "    q = data['X_test'][i][2]\n",
    "    print(\"QUESTION: \", q)\n",
    "    a = data['X_test'][i][3]\n",
    "    print(\"ANSWER: \", a)\n",
    "    res = model.predict([x], bs=1).data.tolist()[0]\n",
    "    if res[0]>res[1]:\n",
    "        res[0], res[1] = res[1], res[0]\n",
    "    ans = get_answer_span(res, c)\n",
    "    print(\"PRED_SPAN: \", res)\n",
    "    print(\"PREDICTED: \", ans)\n",
    "    dev_results[qid] = ans\n",
    "    print(\"=\"*50)\n",
    "with open('../data/run_%sdata_%sepochs.json'%(num_ex, model.epochs), 'w') as f:\n",
    "    json.dump(dev_results, f)"
   ]
  },
  {
   "cell_type": "code",
   "execution_count": null,
   "metadata": {},
   "outputs": [],
   "source": []
  }
 ],
 "metadata": {
  "kernelspec": {
   "display_name": "Python 3",
   "language": "python",
   "name": "python3"
  },
  "language_info": {
   "codemirror_mode": {
    "name": "ipython",
    "version": 3
   },
   "file_extension": ".py",
   "mimetype": "text/x-python",
   "name": "python",
   "nbconvert_exporter": "python",
   "pygments_lexer": "ipython3",
   "version": "3.5.2"
  }
 },
 "nbformat": 4,
 "nbformat_minor": 2
}
