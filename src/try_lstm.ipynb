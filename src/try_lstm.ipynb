{
 "cells": [
  {
   "cell_type": "code",
   "execution_count": null,
   "metadata": {},
   "outputs": [],
   "source": [
    "# not autoreloading - raises TypeError in super().__init__() calls for models\n",
    "from utils import *\n",
    "\n",
    "from tqdm import tqdm\n",
    "from pprint import pprint\n",
    "import json\n",
    "import _pickle as pkl\n",
    "from time import time"
   ]
  },
  {
   "cell_type": "code",
   "execution_count": null,
   "metadata": {},
   "outputs": [],
   "source": [
    "glove = setup_glove()\n",
    "print(glove.vectors.size())\n",
    "VOCAB_SIZE = glove.vectors.size()[0]\n",
    "with open('../data/data.json', 'r') as f:\n",
    "    data = json.load(f)"
   ]
  },
  {
   "cell_type": "code",
   "execution_count": null,
   "metadata": {
    "scrolled": false
   },
   "outputs": [],
   "source": [
    "idx = 5\n",
    "example_X = (data['X_train'][idx])\n",
    "example_y = (data['y_train'][idx])\n",
    "print(\"ID:\", example_X[0])\n",
    "print(\"Context:\", example_X[1])\n",
    "print(\"Question:\", example_X[2])\n",
    "print(\"Answer Span:\", example_y)\n",
    "print(\"Answer:\", example_X[3])\n",
    "X, y = make_data([example_X], [example_y])\n",
    "pprint(y)\n",
    "print(get_answer_span(y[0], example_X[1]))\n",
    "num_ex = 500\n",
    "X_pass, y_pass = make_data(data['X_train'][:num_ex], data['y_train'][:num_ex])"
   ]
  },
  {
   "cell_type": "code",
   "execution_count": null,
   "metadata": {},
   "outputs": [],
   "source": [
    "from models import *\n",
    "\n",
    "conf = {\"vocab\": glove.vectors,\n",
    "    \"learning_rate\": 0.1,\n",
    "        \"epochs\": 5,\n",
    "        \"hidden_size\": 32,\n",
    "       \"batch_size\": 50,\n",
    "       \"opt\": \"Adamax\",\n",
    "        \"n_layers\": 1}\n",
    "model = ModelV2(conf)\n",
    "print(model, model.lr, model.hidden_size, model.batch_size, model.opt)\n",
    "model_name = \"BiGRU_%s_%s_%s_%s\"%(num_ex, model.epochs, model.hidden_size, model.n_layers)\n",
    "print(model_name)"
   ]
  },
  {
   "cell_type": "code",
   "execution_count": null,
   "metadata": {
    "scrolled": false
   },
   "outputs": [],
   "source": [
    "tic = time()\n",
    "res = model.fit(X_pass, y_pass)\n",
    "toc = time()\n",
    "print(\"took\", toc-tic, \"seconds\")\n",
    "torch.save(model, '../evaluation/models/%s'%model_name)"
   ]
  },
  {
   "cell_type": "code",
   "execution_count": null,
   "metadata": {},
   "outputs": [],
   "source": [
    "model = torch.load('../evaluation/models/%s'%model_name)\n",
    "print(model)\n",
    "print(model_name)"
   ]
  },
  {
   "cell_type": "code",
   "execution_count": null,
   "metadata": {},
   "outputs": [],
   "source": [
    "import matplotlib.pyplot as plt\n",
    "plt.plot(list(range(len(res))), res)\n",
    "plt.show()"
   ]
  },
  {
   "cell_type": "code",
   "execution_count": null,
   "metadata": {},
   "outputs": [],
   "source": [
    "num_test = 100\n",
    "X_test_data, y_test_data = make_data(data['X_test'][:num_test], data['y_test'][:num_test])"
   ]
  },
  {
   "cell_type": "code",
   "execution_count": null,
   "metadata": {
    "scrolled": false
   },
   "outputs": [],
   "source": [
    "dev_results = {}\n",
    "seen_contexts = set()\n",
    "seen_questions = set()\n",
    "from hashlib import sha1\n",
    "\n",
    "for i, (x, y) in enumerate(zip(X_test_data[:num_test], y_test_data[:num_test])):\n",
    "    qid = data['X_test'][i][0]\n",
    "    if qid not in seen_questions:\n",
    "        seen_questions.add(qid)\n",
    "    else:\n",
    "        continue\n",
    "    c = data['X_test'][i][1]\n",
    "    context_h = sha1(c.encode('utf-8')).hexdigest()\n",
    "    if context_h not in seen_contexts:\n",
    "        print(c)\n",
    "        print(\"-\"*30)\n",
    "        seen_contexts.add(context_h)\n",
    "    q = data['X_test'][i][2]\n",
    "    print(\"QUESTION: \", q)\n",
    "    a = data['X_test'][i][3]\n",
    "    print(\"ANSWER: \", a)\n",
    "    res = model.predict([x], bs=1).data.tolist()[0]\n",
    "    if res[0]>res[1]:\n",
    "        res[0], res[1] = res[1], res[0]\n",
    "    ans = get_answer_span(res, c)\n",
    "    print(\"PRED_SPAN: \", res)\n",
    "    print(\"PREDICTED: \", ans)\n",
    "    dev_results[qid] = ans\n",
    "    print(\"=\"*50)\n",
    "with open('../data/run_%sdata_%sepochs.json'%(num_ex, model.epochs), 'w') as f:\n",
    "    json.dump(dev_results, f)"
   ]
  },
  {
   "cell_type": "code",
   "execution_count": null,
   "metadata": {},
   "outputs": [],
   "source": [
    "x = torch.ones((1, 25, 32))\n",
    "x.repeat(600, 1, 1).size()"
   ]
  },
  {
   "cell_type": "code",
   "execution_count": null,
   "metadata": {},
   "outputs": [],
   "source": []
  }
 ],
 "metadata": {
  "kernelspec": {
   "display_name": "Python 3",
   "language": "python",
   "name": "python3"
  },
  "language_info": {
   "codemirror_mode": {
    "name": "ipython",
    "version": 3
   },
   "file_extension": ".py",
   "mimetype": "text/x-python",
   "name": "python",
   "nbconvert_exporter": "python",
   "pygments_lexer": "ipython3",
   "version": "3.5.2"
  }
 },
 "nbformat": 4,
 "nbformat_minor": 2
}
