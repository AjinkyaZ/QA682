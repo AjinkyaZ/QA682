{
 "cells": [
  {
   "cell_type": "code",
   "execution_count": null,
   "metadata": {},
   "outputs": [],
   "source": [
    "from utils import *\n",
    "\n",
    "from tqdm import tqdm\n",
    "from pprint import pprint\n",
    "import json\n",
    "import _pickle as pkl\n",
    "from time import time"
   ]
  },
  {
   "cell_type": "code",
   "execution_count": null,
   "metadata": {},
   "outputs": [],
   "source": [
    "glove = setup_glove()\n",
    "print(glove.vectors.size())\n",
    "VOCAB_SIZE = glove.vectors.size()[0]\n",
    "with open('../data/data.json', 'r') as f:\n",
    "    data = json.load(f)"
   ]
  },
  {
   "cell_type": "code",
   "execution_count": null,
   "metadata": {
    "scrolled": false
   },
   "outputs": [],
   "source": [
    "idx = 5\n",
    "example_X = (data['X_train'][idx])\n",
    "example_y = (data['y_train'][idx])\n",
    "print(\"ID:\", example_X[0])\n",
    "print(\"Context:\", example_X[1])\n",
    "print(\"Question:\", example_X[2])\n",
    "print(\"Answer Span:\", example_y)\n",
    "print(\"Answer:\", example_X[3])\n",
    "\n",
    "_, X, y = make_data([example_X], [example_y], 1, glove)\n",
    "print(len(tokenize(example_X[1])))\n",
    "print(get_answer_span(y[0], example_X[1]))\n",
    "num_ex_train = 32\n",
    "num_ex_val = 32\n",
    "idxs_train, X_train, y_train = make_data(data['X_train'], data['y_train'], num_ex_train, glove)\n",
    "idxs_val, X_val, y_val = make_data(data['X_val'], data['y_val'], num_ex_val, glove)\n",
    "print(len(X_train), len(y_train), len(X_val), len(y_val))"
   ]
  },
  {
   "cell_type": "code",
   "execution_count": null,
   "metadata": {},
   "outputs": [],
   "source": [
    "from models import *\n",
    "\n",
    "conf = {\"vocab\": glove.vectors,\n",
    "        \"learning_rate\": 0.5,\n",
    "        \"epochs\": 5,\n",
    "        \"hidden_size\": 50,\n",
    "        \"batch_size\": 16,\n",
    "        \"opt\": \"Adam\",\n",
    "        \"n_layers\": 1}\n",
    "model = ModelV2(conf)\n",
    "print(model)\n",
    "model_name = \"%s_D%s_B%s_E%s_H%s_LR%s_O%s\"%(type(model).__name__, num_ex_train, model.batch_size, model.epochs, model.hidden_size, model.lr, conf[\"opt\"])\n",
    "print(model_name)"
   ]
  },
  {
   "cell_type": "code",
   "execution_count": null,
   "metadata": {
    "scrolled": false
   },
   "outputs": [],
   "source": [
    "tic = time()\n",
    "v_preds, losses, vlosses = model.fit((X_train, y_train), (X_val, y_val))\n",
    "toc = time()\n",
    "print(\"took\", toc-tic, \"seconds\")\n",
    "torch.save(model, '../evaluation/models/%s'%model_name)\n",
    "import matplotlib.pyplot as plt\n",
    "plt.plot(list(range(len(losses))), losses)\n",
    "plt.plot(list(range(len(vlosses))), vlosses)\n",
    "plt.show()"
   ]
  },
  {
   "cell_type": "code",
   "execution_count": null,
   "metadata": {},
   "outputs": [],
   "source": [
    "model = torch.load('../evaluation/models/%s'%model_name)\n",
    "print(model)\n",
    "print(model_name)"
   ]
  },
  {
   "cell_type": "code",
   "execution_count": null,
   "metadata": {
    "scrolled": false
   },
   "outputs": [],
   "source": [
    "num_test = 128\n",
    "idxs_test, X_test, y_test = make_data(data['X_test'], data['y_test'], num_test, glove)\n",
    "\n",
    "dev_results = {}\n",
    "\n",
    "bs = model.batch_size\n",
    "print(\"Test data size:\", num_test)\n",
    "for bindex,  i in tqdm(enumerate(range(0, len(y_test)-bs+1, bs))):\n",
    "    #print(\"batch:\", bindex)\n",
    "    Xb = torch.LongTensor(X_test[i:i+bs])\n",
    "    yb = var(torch.LongTensor(y_test[i:i+bs]))\n",
    "    pred = model.predict(Xb).data.tolist()\n",
    "    pprint(pred)\n",
    "    test_paras = [data['X_test'][j][1] for j in idxs_test]\n",
    "    qids = [data['X_test'][j][0] for j in idxs_test]\n",
    "    answers = list(map(get_answer_span, pred, test_paras))\n",
    "    batch_results = list(zip(qids, answers))\n",
    "    dev_results.update(dict(batch_results))"
   ]
  },
  {
   "cell_type": "code",
   "execution_count": null,
   "metadata": {},
   "outputs": [],
   "source": [
    "num_processed = len(dev_results)\n",
    "print(\"processed:\", num_processed)\n",
    "dev_results['version'] = '1.1'\n",
    "fname = 'run_%s_test%s.json'%(model_name, num_processed)\n",
    "with open('../data/%s'%fname, 'w') as f:\n",
    "    json.dump(dev_results, f)"
   ]
  }
 ],
 "metadata": {
  "kernelspec": {
   "display_name": "Python 3",
   "language": "python",
   "name": "python3"
  },
  "language_info": {
   "codemirror_mode": {
    "name": "ipython",
    "version": 3
   },
   "file_extension": ".py",
   "mimetype": "text/x-python",
   "name": "python",
   "nbconvert_exporter": "python",
   "pygments_lexer": "ipython3",
   "version": "3.5.2"
  }
 },
 "nbformat": 4,
 "nbformat_minor": 2
}
