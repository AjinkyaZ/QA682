{
 "cells": [
  {
   "cell_type": "code",
   "execution_count": 1,
   "metadata": {},
   "outputs": [],
   "source": [
    "%load_ext autoreload\n",
    "# not autoreloading - raises TypeError in super().__init__() calls for models\n",
    "from models import *\n",
    "from utils import *\n",
    "\n",
    "from tqdm import tqdm\n",
    "from pprint import pprint\n",
    "import json\n",
    "import _pickle as pkl\n",
    "from time import time"
   ]
  },
  {
   "cell_type": "code",
   "execution_count": 2,
   "metadata": {},
   "outputs": [
    {
     "name": "stdout",
     "output_type": "stream",
     "text": [
      "torch.Size([400004, 50])\n"
     ]
    }
   ],
   "source": [
    "glove = setup_glove()\n",
    "print(glove.vectors.size())\n",
    "VOCAB_SIZE = glove.vectors.size()[0]\n",
    "with open('../data/data.json', 'r') as f:\n",
    "    data = json.load(f)"
   ]
  },
  {
   "cell_type": "code",
   "execution_count": 3,
   "metadata": {
    "scrolled": false
   },
   "outputs": [
    {
     "name": "stdout",
     "output_type": "stream",
     "text": [
      "ID: 56ce602faab44d1400b88713\n",
      "Context: A solar chimney (or thermal chimney, in this context) is a passive solar ventilation system composed of a vertical shaft connecting the interior and exterior of a building. As the chimney warms, the air inside is heated causing an updraft that pulls air through the building. Performance can be improved by using glazing and thermal mass materials in a way that mimics greenhouses.\n",
      "Question: What kind of system is a solar chimney?\n",
      "Answer Span: [59, 84]\n",
      "Answer: passive solar ventilation\n",
      "[(11, 13)]\n",
      "passive solar ventilation\n"
     ]
    }
   ],
   "source": [
    "idx = 5\n",
    "example_X = (data['X_train'][idx])\n",
    "example_y = (data['y_train'][idx])\n",
    "print(\"ID:\", example_X[0])\n",
    "print(\"Context:\", example_X[1])\n",
    "print(\"Question:\", example_X[2])\n",
    "print(\"Answer Span:\", example_y)\n",
    "print(\"Answer:\", example_X[3])\n",
    "X, y = make_data([example_X], [example_y])\n",
    "pprint(y)\n",
    "print(get_answer_span(y[0], example_X[1]))\n",
    "num_ex = 500\n",
    "X_pass, y_pass = make_data(data['X_train'][:num_ex], data['y_train'][:num_ex])"
   ]
  },
  {
   "cell_type": "code",
   "execution_count": 6,
   "metadata": {},
   "outputs": [
    {
     "name": "stdout",
     "output_type": "stream",
     "text": [
      "ModelV2(\n",
      "  (encoder_c): Embedding(400004, 50)\n",
      "  (encoder_q): Embedding(400004, 50)\n",
      "  (gru_c): GRU(50, 64, bidirectional=True)\n",
      "  (gru_q): GRU(50, 64, bidirectional=True)\n",
      "  (gru_op): GRU(200, 64, bidirectional=True)\n",
      "  (decoder_start): Linear(in_features=64, out_features=600, bias=True)\n",
      "  (decoder_end): Linear(in_features=64, out_features=600, bias=True)\n",
      ") 0.001 64 20 <class 'torch.optim.adam.Adam'>\n",
      "BiGRU_500_5_64_1\n"
     ]
    }
   ],
   "source": [
    "conf = {\"vocab\": glove.vectors,\n",
    "    \"learning_rate\": 1e-3,\n",
    "        \"epochs\": 5,\n",
    "        \"hidden_size\": 64,\n",
    "       \"batch_size\": 20,\n",
    "       \"opt\": \"Adam\",\n",
    "        \"n_layers\": 1}\n",
    "model = ModelV2(conf)\n",
    "print(model, model.lr, model.hidden_size, model.batch_size, model.opt)\n",
    "model_name = \"BiGRU_%s_%s_%s_%s\"%(num_ex, model.epochs, model.hidden_size, model.n_layers)\n",
    "print(model_name)"
   ]
  },
  {
   "cell_type": "code",
   "execution_count": 7,
   "metadata": {
    "scrolled": false
   },
   "outputs": [
    {
     "name": "stdout",
     "output_type": "stream",
     "text": [
      "epoch: 0\n",
      "0 : 12.7932\n",
      "1 : 12.7652\n",
      "2 : 12.7531\n",
      "3 : 12.7772\n",
      "4 : 12.7267\n",
      "5 : 12.7425\n",
      "6 : 12.7366\n",
      "7 : 12.634\n",
      "8 : 12.6252\n",
      "9 : 12.6334\n",
      "10 : 12.51\n",
      "11 : 12.4733\n",
      "12 : 12.4461\n",
      "13 : 12.3964\n",
      "14 : 12.4161\n",
      "15 : 12.4398\n",
      "16 : 12.3354\n",
      "17 : 12.1133\n",
      "18 : 12.3276\n",
      "19 : 12.1168\n",
      "20 : 11.8339\n",
      "21 : 12.109\n",
      "22 : 11.668\n",
      "23 : 11.3278\n",
      "24 : 11.6849\n",
      "\n",
      "loss (epoch): 15.469271993637085, change: 00.0%\n",
      "epoch: 1\n",
      "0 : 10.961\n",
      "1 : 10.9879\n",
      "2 : 10.8895\n",
      "3 : 10.9127\n",
      "4 : 10.9319\n",
      "5 : 11.0508\n",
      "6 : 10.9903\n",
      "7 : 10.9001\n",
      "8 : 10.8247\n",
      "9 : 10.926\n",
      "10 : 10.5408\n",
      "11 : 10.5561\n",
      "12 : 10.6691\n",
      "13 : 10.6224\n",
      "14 : 10.6624\n",
      "15 : 10.7653\n",
      "16 : 10.6793\n",
      "17 : 10.5544\n",
      "18 : 10.8997\n",
      "19 : 10.5615\n",
      "20 : 10.235\n",
      "21 : 10.7524\n",
      "22 : 10.1346\n",
      "23 : 9.7854\n",
      "24 : 10.3407\n",
      "\n",
      "loss (epoch): 13.356692457199097, change: 0.136566189883205 %\n",
      "epoch: 2\n",
      "0 : 9.7229\n",
      "1 : 9.9118\n",
      "2 : 9.7245\n",
      "3 : 9.768\n",
      "4 : 9.9268\n",
      "5 : 10.0535\n",
      "6 : 10.1029\n",
      "7 : 10.0539\n",
      "8 : 9.9205\n",
      "9 : 10.166\n",
      "10 : 9.6034\n",
      "11 : 9.6952\n",
      "12 : 9.8999\n",
      "13 : 9.9141\n",
      "14 : 9.948\n",
      "15 : 10.1316\n",
      "16 : 10.0693\n",
      "17 : 9.9498\n",
      "18 : 10.3963\n",
      "19 : 10.0104\n",
      "20 : 9.6053\n",
      "21 : 10.2615\n",
      "22 : 9.5739\n",
      "23 : 9.2382\n",
      "24 : 9.8972\n",
      "\n",
      "loss (epoch): 12.377236270904541, change: 0.07333074332834852 %\n",
      "epoch: 3\n",
      "0 : 9.4091\n",
      "1 : 9.6917\n",
      "2 : 9.2742\n",
      "3 : 9.4467\n",
      "4 : 9.6692\n",
      "5 : 9.7664\n",
      "6 : 9.8827\n",
      "7 : 9.8322\n",
      "8 : 9.6532\n",
      "9 : 9.9558\n",
      "10 : 9.2888\n",
      "11 : 9.3931\n",
      "12 : 9.6312\n",
      "13 : 9.6647\n",
      "14 : 9.6753\n",
      "15 : 9.9019\n",
      "16 : 9.862\n",
      "17 : 9.7744\n",
      "18 : 10.2228\n",
      "19 : 9.8242\n",
      "20 : 9.3464\n",
      "21 : 10.0925\n",
      "22 : 9.354\n",
      "23 : 9.0512\n",
      "24 : 9.743\n",
      "\n",
      "loss (epoch): 12.070332336425782, change: 0.02479583711270065 %\n",
      "epoch: 4\n",
      "0 : 9.3564\n",
      "1 : 9.6575\n",
      "2 : 9.1345\n",
      "3 : 9.3375\n",
      "4 : 9.5968\n",
      "5 : 9.6682\n",
      "6 : 9.8359\n",
      "7 : 9.7641\n",
      "8 : 9.5629\n",
      "9 : 9.8916\n",
      "10 : 9.1759\n",
      "11 : 9.2731\n",
      "12 : 9.5185\n",
      "13 : 9.5615\n",
      "14 : 9.567\n",
      "15 : 9.7936\n",
      "16 : 9.7664\n",
      "17 : 9.6974\n",
      "18 : 10.143\n",
      "19 : 9.7407\n",
      "20 : 9.2083\n",
      "21 : 10.0054\n",
      "22 : 9.2399\n",
      "23 : 8.9631\n",
      "24 : 9.6527\n",
      "\n",
      "loss (epoch): 11.95559515953064, change: 0.009505718127485914 %\n",
      "took 1492.2614138126373 seconds\n"
     ]
    }
   ],
   "source": [
    "tic = time()\n",
    "res = model.fit(X_pass, y_pass)\n",
    "toc = time()\n",
    "print(\"took\", toc-tic, \"seconds\")\n",
    "torch.save(model, '../evaluation/models/%s'%model_name)"
   ]
  },
  {
   "cell_type": "code",
   "execution_count": 8,
   "metadata": {},
   "outputs": [
    {
     "name": "stdout",
     "output_type": "stream",
     "text": [
      "ModelV2(\n",
      "  (encoder_c): Embedding(400004, 50)\n",
      "  (encoder_q): Embedding(400004, 50)\n",
      "  (gru_c): GRU(50, 64, bidirectional=True)\n",
      "  (gru_q): GRU(50, 64, bidirectional=True)\n",
      "  (gru_op): GRU(200, 64, bidirectional=True)\n",
      "  (decoder_start): Linear(in_features=64, out_features=600, bias=True)\n",
      "  (decoder_end): Linear(in_features=64, out_features=600, bias=True)\n",
      ")\n",
      "BiGRU_500_5_64_1\n"
     ]
    }
   ],
   "source": [
    "model = torch.load('../evaluation/models/%s'%model_name)\n",
    "print(model)\n",
    "print(model_name)"
   ]
  },
  {
   "cell_type": "code",
   "execution_count": 12,
   "metadata": {},
   "outputs": [
    {
     "data": {
      "image/png": "[encoded data removed]",
      "text/plain": [
       "<matplotlib.figure.Figure at 0x7f275c35bf98>"
      ]
     },
     "metadata": {},
     "output_type": "display_data"
    }
   ],
   "source": [
    "import matplotlib.pyplot as plt\n",
    "plt.plot(list(range(len(res))), res)\n",
    "plt.show()"
   ]
  },
  {
   "cell_type": "code",
   "execution_count": null,
   "metadata": {},
   "outputs": [],
   "source": [
    "X_test_data, y_test_data = make_data(data['X_test'][:1000], data['y_test'][:1000])"
   ]
  },
  {
   "cell_type": "code",
   "execution_count": null,
   "metadata": {
    "scrolled": false
   },
   "outputs": [],
   "source": [
    "dev_results = {}\n",
    "seen_contexts = set()\n",
    "from hashlib import sha1\n",
    "\n",
    "model.hidden_c, model.hidden_q, model.hidden_op = model.init_hidden(1), model.init_hidden(1), model.init_hidden(1)\n",
    "for i, (x, y) in enumerate(zip(X_test_data[:1000], y_test_data[:1000])):\n",
    "    qid = data['X_test'][i][0]\n",
    "    c = data['X_test'][i][1]\n",
    "    context_h = sha1(c.encode('utf-8')).hexdigest()\n",
    "    if context_h not in seen_contexts:\n",
    "        print(c)\n",
    "        print(\"-\"*30)\n",
    "        seen_contexts.add(context_h)\n",
    "    q = data['X_test'][i][2]\n",
    "    print(\"QUESTION: \", q)\n",
    "    a = data['X_test'][i][3]\n",
    "    print(\"ANSWER: \", a)\n",
    "    res = model.predict([x], bs=1).data.tolist()[0]\n",
    "    if res[0]>res[1]:\n",
    "        res[0], res[1] = res[1], res[0]\n",
    "    ans = get_answer_span(res, c)\n",
    "    print(\"PRED_SPAN: \", res)\n",
    "    print(\"PREDICTED: \", ans)\n",
    "    dev_results[qid] = ans\n",
    "    print(\"=\"*50)\n",
    "with open('../data/run_500data_5epochs.json', 'w') as f:\n",
    "    json.dump(dev_results, f)"
   ]
  },
  {
   "cell_type": "code",
   "execution_count": null,
   "metadata": {},
   "outputs": [],
   "source": [
    "import allennlp as anlp"
   ]
  },
  {
   "cell_type": "code",
   "execution_count": null,
   "metadata": {},
   "outputs": [],
   "source": [
    "from hashlib import sha1"
   ]
  },
  {
   "cell_type": "code",
   "execution_count": null,
   "metadata": {},
   "outputs": [],
   "source": []
  },
  {
   "cell_type": "code",
   "execution_count": null,
   "metadata": {},
   "outputs": [],
   "source": []
  }
 ],
 "metadata": {
  "kernelspec": {
   "display_name": "Python 3",
   "language": "python",
   "name": "python3"
  },
  "language_info": {
   "codemirror_mode": {
    "name": "ipython",
    "version": 3
   },
   "file_extension": ".py",
   "mimetype": "text/x-python",
   "name": "python",
   "nbconvert_exporter": "python",
   "pygments_lexer": "ipython3",
   "version": "3.5.2"
  }
 },
 "nbformat": 4,
 "nbformat_minor": 2
}
